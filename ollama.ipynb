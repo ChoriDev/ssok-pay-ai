{
 "cells": [
  {
   "cell_type": "code",
   "execution_count": 1,
   "metadata": {},
   "outputs": [],
   "source": [
    "from langchain_ollama import OllamaLLM, OllamaEmbeddings\n",
    "from langchain_core.prompts import PromptTemplate\n",
    "from langchain_core.output_parsers import StrOutputParser\n",
    "from langchain_chroma import Chroma\n",
    "\n",
    "llm = OllamaLLM(model=\"gemma2\")\n",
    "output_parser = StrOutputParser()\n",
    "embedding_model = OllamaEmbeddings(model='gemma2')\n",
    "\n",
    "# 카드 데이터베이스 경로\n",
    "DB_PATH = '/workspace/card_db/vector'\n",
    "\n",
    "# Chroma 데이터베이스 로드\n",
    "card_db = Chroma(\n",
    "    persist_directory=DB_PATH,\n",
    "    embedding_function=embedding_model,\n",
    "    collection_name='card_db',\n",
    ")"
   ]
  },
  {
   "cell_type": "code",
   "execution_count": 2,
   "metadata": {},
   "outputs": [],
   "source": [
    "# 사용자가 보유한 카드 정보\n",
    "owned_cards = ['K-패스 신한카드', '신한카드 Deep Oil' '신한카드 Air One']"
   ]
  },
  {
   "cell_type": "code",
   "execution_count": 18,
   "metadata": {},
   "outputs": [],
   "source": [
    "# 초기 결제 상황 정보\n",
    "\n",
    "# # Case 1.\n",
    "# environment = '오프라인 매장'\n",
    "# store = '세븐일레븐'\n",
    "# date = '2024년 11월 21일 목요일'\n",
    "# time = '오후 9시 10분'\n",
    "\n",
    "# # Case 2.\n",
    "# environment = '오프라인 매장'\n",
    "# store = '현대오일뱅크'\n",
    "# date = '2024년 11월 22일 금요일'\n",
    "# time = '오후 6시 50분'\n",
    "\n",
    "# Case 3.\n",
    "environment = '오프라인 매장'\n",
    "store = '메가MGC커피'\n",
    "date = '2024년 11월 23일 토요일'\n",
    "time = '오전 10시 30분'"
   ]
  },
  {
   "cell_type": "code",
   "execution_count": 19,
   "metadata": {},
   "outputs": [
    {
     "data": {
      "text/plain": [
       "'커피 전문점'"
      ]
     },
     "execution_count": 19,
     "metadata": {},
     "output_type": "execute_result"
    }
   ],
   "source": [
    "# Step 2: 카테고리 추론 프롬프트와 체인 구성\n",
    "category_prompt_template = \"\"\"\n",
    "네 역할은 경영 전문가야.\n",
    "\n",
    "주어진 결제 상황을 보고 어떤 유형의 매장에서 결제가 발생할 것인지 추론해.\n",
    "결제 상황:\n",
    "- 온/오프라인: {environment}\n",
    "- 매장: {store}\n",
    "- 날짜: {date}\n",
    "- 시간: {time}\n",
    "\n",
    "결과는 입력된 매장에 대한 유형을 단답식으로 출력해.\n",
    "출력 예시는 다음과 같아.\n",
    "커피전문점\n",
    "음식점\n",
    "편의점\n",
    "학원\n",
    "주유소\n",
    "전자제품 판매점\n",
    "영화관\n",
    "\"\"\"\n",
    "\n",
    "category_prompt = PromptTemplate(\n",
    "    input_variables=['environment', 'store', 'date', 'time'],\n",
    "    template=category_prompt_template\n",
    ")\n",
    "\n",
    "category_chain = category_prompt | llm | output_parser\n",
    "category = category_chain.invoke({'environment': environment, 'store': store, 'date': date, 'time': time}).strip()\n",
    "category"
   ]
  },
  {
   "cell_type": "code",
   "execution_count": 24,
   "metadata": {},
   "outputs": [
    {
     "data": {
      "text/plain": [
       "'6000'"
      ]
     },
     "execution_count": 24,
     "metadata": {},
     "output_type": "execute_result"
    }
   ],
   "source": [
    "# Step 3: 예상 결제액 추론 프롬프트와 체인 구성\n",
    "estimation_prompt_template = \"\"\"\n",
    "네 역할은 금융 전문가야.\n",
    "\n",
    "주어진 결제 상황과 카테고리에 따라 예상되는 결제 금액을 추정해.\n",
    "결제 상황:\n",
    "- 온/오프라인: {environment}\n",
    "- 매장: {store}\n",
    "- 날짜: {date}\n",
    "- 시간: {time}\n",
    "- 업종: {category}\n",
    "\n",
    "결과는 숫자로만 출력해.\n",
    "출력 예시는 다음과 같아.\n",
    "1000\n",
    "5000\n",
    "30000\n",
    "75000\n",
    "\"\"\"\n",
    "\n",
    "estimation_prompt = PromptTemplate(\n",
    "    input_variables=['environment', 'store', 'date', 'time', 'category'],\n",
    "    template=estimation_prompt_template\n",
    ")\n",
    "\n",
    "estimation_chain = estimation_prompt | llm | output_parser\n",
    "estimated_amount = estimation_chain.invoke({'environment': environment, 'store': store, 'date': date, 'time': time, 'category': category}).strip()\n",
    "estimated_amount"
   ]
  },
  {
   "cell_type": "code",
   "execution_count": 16,
   "metadata": {},
   "outputs": [
    {
     "name": "stdout",
     "output_type": "stream",
     "text": [
      "혜택이 가장 좋은 카드: 사용자분께서는 영화관에서 결제를 하는 상황이므로, **K-패스** 신한카드가 가장 적합합니다. \n",
      "\n",
      "K-패스 신한카드는 오프라인 매장에서 영화 관람 시 5%의 결제일 할인을 제공하며,  롯데시네마 등은 K-패스 카드에서 제공하는 할인 대상 업종으로 분류됩니다.\n"
     ]
    }
   ],
   "source": [
    "from langchain.chains import RetrievalQA\n",
    "\n",
    "# RAG 구성\n",
    "# retrieval_chain = RetrievalQA.from_chain_type(\n",
    "#     llm=llm,\n",
    "#     chain_type='stuff',  # 기본적인 RAG 방식\n",
    "#     retriever=card_db.as_retriever(),\n",
    "#     return_source_documents=True  # 원본 문서도 반환하도록 설정\n",
    "# )\n",
    "\n",
    "owned_cards_query = f\"{', '.join(owned_cards)}의 카드 정보를 알려줘.\"\n",
    "retriever = card_db.as_retriever()\n",
    "owned_cards_info = retriever.get_relevant_documents(query=owned_cards_query)\n",
    "\n",
    "# Step 4: 최적의 카드 추론 프롬프트와 체인 구성\n",
    "card_prompt_template = \"\"\"\n",
    "네 역할은 금융 전문가야.\n",
    "\n",
    "다음 결제 상황을 고려하여 사용자가 가진 카드 중에서 혜택이 가장 좋은 카드를 추천해줘.\n",
    "결제 상황:\n",
    "- 온/오프라인: {environment}\n",
    "- 매장: {store}\n",
    "- 날짜: {date}\n",
    "- 시간: {time}\n",
    "- 업종: {category}\n",
    "- 예상 결제액: {estimated_amount}\n",
    "- 사용자가 소유한 카드 정보: {owned_cards_info}\n",
    "\n",
    "혜택이 가장 좋은 카드를 반드시 하나 알려줘.\n",
    "출력 예시는 다음과 같아.\n",
    "국민행복\n",
    "Mr.Life\n",
    "처음(ANNIVERSE)\n",
    "\"\"\"\n",
    "\n",
    "card_prompt = PromptTemplate(\n",
    "    input_variables=['environment', 'store', 'date', 'time', 'category', 'estimated_amount', 'owned_cards_info'],\n",
    "    template=card_prompt_template\n",
    ")\n",
    "\n",
    "output_parser = StrOutputParser()\n",
    "card_chain = (card_prompt | llm | output_parser)\n",
    "\n",
    "# 카드 추천 체인 실행\n",
    "result = card_chain.invoke({\n",
    "    'environment': environment,\n",
    "    'store': store,\n",
    "    'date': date,\n",
    "    'time': time,\n",
    "    'category': category,\n",
    "    'estimated_amount': estimated_amount,\n",
    "    'owned_cards_info': owned_cards_info\n",
    "}).strip()\n",
    "\n",
    "# 최종 결과 출력\n",
    "print('혜택이 가장 좋은 카드:', result)"
   ]
  }
 ],
 "metadata": {
  "kernelspec": {
   "display_name": "Python 3",
   "language": "python",
   "name": "python3"
  },
  "language_info": {
   "codemirror_mode": {
    "name": "ipython",
    "version": 3
   },
   "file_extension": ".py",
   "mimetype": "text/x-python",
   "name": "python",
   "nbconvert_exporter": "python",
   "pygments_lexer": "ipython3",
   "version": "3.12.5"
  }
 },
 "nbformat": 4,
 "nbformat_minor": 2
}
