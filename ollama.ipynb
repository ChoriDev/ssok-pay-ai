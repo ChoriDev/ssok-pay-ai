{
 "cells": [
  {
   "cell_type": "code",
   "execution_count": 27,
   "metadata": {},
   "outputs": [],
   "source": [
    "from langchain_ollama import OllamaLLM\n",
    "from langchain_core.prompts import PromptTemplate\n",
    "from langchain_core.output_parsers import StrOutputParser\n",
    "\n",
    "llm = OllamaLLM(model=\"gemma2\")\n",
    "output_parser = StrOutputParser()"
   ]
  },
  {
   "cell_type": "code",
   "execution_count": 136,
   "metadata": {},
   "outputs": [],
   "source": [
    "store = '레스티오'\n",
    "date = '2024년 11월 21일 목요일'\n",
    "time = '오후 9시 10분'"
   ]
  },
  {
   "cell_type": "code",
   "execution_count": 152,
   "metadata": {},
   "outputs": [
    {
     "data": {
      "text/plain": [
       "'음식점 \\n'"
      ]
     },
     "execution_count": 152,
     "metadata": {},
     "output_type": "execute_result"
    }
   ],
   "source": [
    "# Step 2: 카테고리 추론 프롬프트와 체인 구성\n",
    "category_prompt_template = \"\"\"\n",
    "네 역할은 경영 전문가야.\n",
    "\n",
    "주어진 결제 상황을 보고 어떤 유형의 매장에서 결제가 발생할 것인지 추론해.\n",
    "결제 상황:\n",
    "- 매장: {store}\n",
    "- 날짜: {date}\n",
    "- 시간: {time}\n",
    "\n",
    "결과는 입력된 매장에 대한 유형을 단답식으로 출력해.\n",
    "출력 예시는 다음과 같아.\n",
    "커피전문점\n",
    "음식점\n",
    "편의점\n",
    "학원\n",
    "주유소\n",
    "전자제품 판매점\n",
    "\"\"\"\n",
    "\n",
    "category_prompt = PromptTemplate(\n",
    "    input_variables=['store', 'date', 'time'],\n",
    "    template=category_prompt_template\n",
    ")\n",
    "\n",
    "category_chain = category_prompt | llm | output_parser\n",
    "category = category_chain.invoke({'store': store, 'date': date, 'time': time})\n",
    "category"
   ]
  },
  {
   "cell_type": "code",
   "execution_count": null,
   "metadata": {},
   "outputs": [
    {
     "data": {
      "text/plain": [
       "'20000 \\n'"
      ]
     },
     "execution_count": 134,
     "metadata": {},
     "output_type": "execute_result"
    }
   ],
   "source": [
    "# Step 2: 예상 결제액 추론 프롬프트와 체인 구성\n",
    "estimation_prompt_template = \"\"\"\n",
    "네 역할은 금융 전문가야.\n",
    "\n",
    "주어진 결제 상황과 카테고리에 따라 예상되는 결제 금액을 추정해.\n",
    "결제 상황:\n",
    "- 매장: {store}\n",
    "- 날짜: {date}\n",
    "- 시간: {time}\n",
    "- 업종: {category}\n",
    "\n",
    "결과는 숫자로만 출력해.\n",
    "출력 예시는 다음과 같아.\n",
    "1000\n",
    "5000\n",
    "30000\n",
    "75000\n",
    "\"\"\"\n",
    "\n",
    "estimation_prompt = PromptTemplate(\n",
    "    input_variables=['store', 'date', 'time', 'category'],\n",
    "    template=estimation_prompt_template\n",
    ")\n",
    "\n",
    "category_chain = estimation_prompt ㄴ| llm | output_parser\n",
    "estimated_amount = category_chain.invoke({'store': store, 'date': date, 'time': time, 'category': category})\n",
    "estimated_amount"
   ]
  }
 ],
 "metadata": {
  "kernelspec": {
   "display_name": "Python 3",
   "language": "python",
   "name": "python3"
  },
  "language_info": {
   "codemirror_mode": {
    "name": "ipython",
    "version": 3
   },
   "file_extension": ".py",
   "mimetype": "text/x-python",
   "name": "python",
   "nbconvert_exporter": "python",
   "pygments_lexer": "ipython3",
   "version": "3.12.5"
  }
 },
 "nbformat": 4,
 "nbformat_minor": 2
}
