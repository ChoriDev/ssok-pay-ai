{
 "cells": [
  {
   "cell_type": "code",
   "execution_count": 27,
   "metadata": {},
   "outputs": [],
   "source": [
    "from langchain_ollama import OllamaLLM\n",
    "from langchain_core.prompts import PromptTemplate\n",
    "from langchain_core.output_parsers import StrOutputParser\n",
    "\n",
    "llm = OllamaLLM(model=\"gemma2\")\n",
    "output_parser = StrOutputParser()"
   ]
  },
  {
   "cell_type": "code",
   "execution_count": 136,
   "metadata": {},
   "outputs": [],
   "source": [
    "store = '레스티오'\n",
    "date = '2024년 11월 21일 목요일'\n",
    "time = '오후 9시 10분'"
   ]
  },
  {
   "cell_type": "code",
   "execution_count": 184,
   "metadata": {},
   "outputs": [
    {
     "data": {
      "text/plain": [
       "'음식점 \\n'"
      ]
     },
     "execution_count": 184,
     "metadata": {},
     "output_type": "execute_result"
    }
   ],
   "source": [
    "# Step 2: 카테고리 추론 프롬프트와 체인 구성\n",
    "category_prompt_template = \"\"\"\n",
    "네 역할은 경영 전문가야.\n",
    "\n",
    "주어진 결제 상황을 보고 어떤 유형의 매장에서 결제가 발생할 것인지 추론해.\n",
    "결제 상황:\n",
    "- 매장: {store}\n",
    "- 날짜: {date}\n",
    "- 시간: {time}\n",
    "\n",
    "결과는 입력된 매장에 대한 유형을 단답식으로 출력해.\n",
    "출력 예시는 다음과 같아.\n",
    "커피전문점\n",
    "음식점\n",
    "편의점\n",
    "학원\n",
    "주유소\n",
    "전자제품 판매점\n",
    "\"\"\"\n",
    "\n",
    "category_prompt = PromptTemplate(\n",
    "    input_variables=['store', 'date', 'time'],\n",
    "    template=category_prompt_template\n",
    ")\n",
    "\n",
    "category_chain = category_prompt | llm | output_parser\n",
    "category = category_chain.invoke({'store': store, 'date': date, 'time': time})\n",
    "category"
   ]
  },
  {
   "cell_type": "code",
   "execution_count": null,
   "metadata": {},
   "outputs": [
    {
     "data": {
      "text/plain": [
       "'20000 \\n'"
      ]
     },
     "execution_count": 134,
     "metadata": {},
     "output_type": "execute_result"
    }
   ],
   "source": [
    "# Step 2: 예상 결제액 추론 프롬프트와 체인 구성\n",
    "estimation_prompt_template = \"\"\"\n",
    "네 역할은 금융 전문가야.\n",
    "\n",
    "주어진 결제 상황과 카테고리에 따라 예상되는 결제 금액을 추정해.\n",
    "결제 상황:\n",
    "- 매장: {store}\n",
    "- 날짜: {date}\n",
    "- 시간: {time}\n",
    "- 업종: {category}\n",
    "\n",
    "결과는 숫자로만 출력해.\n",
    "출력 예시는 다음과 같아.\n",
    "1000\n",
    "5000\n",
    "30000\n",
    "75000\n",
    "\"\"\"\n",
    "\n",
    "estimation_prompt = PromptTemplate(\n",
    "    input_variables=['store', 'date', 'time', 'category'],\n",
    "    template=estimation_prompt_template\n",
    ")\n",
    "\n",
    "category_chain = estimation_prompt ㄴ| llm | output_parser\n",
    "estimated_amount = category_chain.invoke({'store': store, 'date': date, 'time': time, 'category': category})\n",
    "estimated_amount"
   ]
  },
  {
   "cell_type": "code",
   "execution_count": null,
   "metadata": {},
   "outputs": [
    {
     "data": {
      "text/plain": [
       "(3, 3, 3)"
      ]
     },
     "execution_count": 191,
     "metadata": {},
     "output_type": "execute_result"
    }
   ],
   "source": [
    "from langchain_community.document_loaders import TextLoader\n",
    "from langchain.text_splitter import RecursiveCharacterTextSplitter\n",
    "from langchain_chroma import Chroma\n",
    "\n",
    "# 텍스트 분할\n",
    "text_splitter = RecursiveCharacterTextSplitter(chunk_size=600, chunk_overlap=0)\n",
    "\n",
    "# 텍스트 파일을 load -> List[Document] 형태로 변환\n",
    "loader1 = TextLoader('/workspace/card_db/국민행복.md')\n",
    "loader2 = TextLoader('/workspace/card_db/처음(ANNIVERSE).md')\n",
    "loader3 = TextLoader('/workspace/card_db/Mr.Life.md')\n",
    "\n",
    "# 문서 분할\n",
    "split_doc1 = loader1.load_and_split(text_splitter)\n",
    "split_doc2 = loader2.load_and_split(text_splitter)\n",
    "split_doc3 = loader3.load_and_split(text_splitter)\n",
    "\n",
    "# 문서 개수 확인\n",
    "len(split_doc1), len(split_doc2), len(split_doc3)"
   ]
  },
  {
   "cell_type": "code",
   "execution_count": null,
   "metadata": {},
   "outputs": [],
   "source": [
    "from langchain_community.embeddings import OllamaEmbeddings\n",
    "\n",
    "embedding_model = OllamaEmbeddings(model='gemma2')\n",
    "\n",
    "# DB 생성\n",
    "db = Chroma.from_documents(\n",
    "    documents=split_doc1, embedding=embedding_model, collection_name='card_db'\n",
    ")"
   ]
  },
  {
   "cell_type": "code",
   "execution_count": null,
   "metadata": {},
   "outputs": [],
   "source": [
    "# 저장할 경로 지정\n",
    "DB_PATH = '/workspace/card_db/chroma_db'\n",
    "\n",
    "# 문서를 디스크에 저장합니다. 저장시 persist_directory에 저장할 경로를 지정합니다.\n",
    "persist_db = Chroma.from_documents(\n",
    "    split_doc1, embedding_model, persist_directory=DB_PATH, collection_name='card_db'\n",
    ")"
   ]
  },
  {
   "cell_type": "code",
   "execution_count": null,
   "metadata": {},
   "outputs": [],
   "source": [
    "# 디스크에서 문서를 로드합니다.\n",
    "persist_db = Chroma(\n",
    "    persist_directory=DB_PATH,\n",
    "    embedding_function=embedding_model,\n",
    "    collection_name='card_db',\n",
    ")"
   ]
  },
  {
   "cell_type": "code",
   "execution_count": null,
   "metadata": {},
   "outputs": [
    {
     "data": {
      "text/plain": [
       "{'ids': ['682db457-ac34-432e-a4c9-6546a1dda9b4',\n",
       "  '1b75e03a-064a-4221-9d8e-84a2b292c1b9',\n",
       "  '1290bb9d-0fac-4cf2-b36b-b8c17e6114ae',\n",
       "  '344e7fa7-94ec-4ef5-b697-eb601535ecd4',\n",
       "  'd7dae7c9-a01a-404a-afcd-f9cf8c369d8d',\n",
       "  '01926625-885b-404c-ba75-53bc04d1baa5'],\n",
       " 'embeddings': None,\n",
       " 'documents': [\"### 병원, 약국, 산후조리원 5% 할인\\n- 치과와 한의원 포함 병원, 약국, 산후조리원에서 할인\\n#### 제한 사항\\n- 월 2회 할인 적용\\n- 건당 최대 5천원 할인\\n- 동물병원 할인 제외\\n### 온라인 쇼핑 5% 할인\\n- 쿠팡, SSG닷컴, 롯데ON, 11번가, G마켓에서 할인\\n#### 제한 사항\\n- 월 2회 할인 적용\\n- 건당 최대 5천원 할인\\n- 서비스 대상 공식 사이트(앱)에 직접 접속하여 이용하는 경우에 한하여 할인 적용\\n### 교육, 육아 10% 할인\\n- 어린이집/유치원 중 부모부담금, 학원, 인터넷서점(YES24, 알라딘, 교보문고)\\n#### 제한 사항\\n- 월 2회 할인 적용\\n- 건당 최대 5천원 할인\\n- 학원은 방문 결제 시(오프라인 가맹점 결제)에 적용\\n- 인터넷 서점은 온라인 매장만 적용\\n###  배달앱 10% 할인\\n- 배달의민족, 요기요 할인\\n#### 제한 사항\\n- 월 2회 할인 적용\\n- 건당 최대 5천원 할인\\n- 서비스 대상 공식 배달앱에서 '앱 내 카드 결제’에 한하여 적용\\n### 디지털 구독 50% 할인\\n- 넷플릭스, 유튜브프리미엄 할인\\n#### 제한 사항\\n- 월 1회 할인 적용\\n- 건당 최대 5천원 할인\",\n",
       "  '- 서비스 대상 가맹점 공식 사이트에 직접 접속하여 신청한 정기결제(자동이체) 이용 건에 한하여 서비스 적용\\n### 온라인 멤버쉽 3천원 할인\\n- 네이버(플러스멤버쉽), 쿠팡(로켓와우), 롯데ON(롯데오너스) 할인\\n#### 제한 사항\\n- 월 1회 할인 적용\\n- 건당 최대 3천원 할인\\n### 통합 할인 한도',\n",
       "  '| 전월 이용금액          | 할인 한도 |\\n| ---------------- | ----- |\\n| 30만원 이상 60만원 미만  | 1만원   |\\n| 60만원 이상 100만원 미만 | 2만원   |\\n| 100만원 이상         | 4만원',\n",
       "  \"### 병원, 약국, 산후조리원 5% 할인\\n- 치과와 한의원 포함 병원, 약국, 산후조리원에서 할인\\n#### 제한 사항\\n- 월 2회 할인 적용\\n- 건당 최대 5천원 할인\\n- 동물병원 할인 제외\\n### 온라인 쇼핑 5% 할인\\n- 쿠팡, SSG닷컴, 롯데ON, 11번가, G마켓에서 할인\\n#### 제한 사항\\n- 월 2회 할인 적용\\n- 건당 최대 5천원 할인\\n- 서비스 대상 공식 사이트(앱)에 직접 접속하여 이용하는 경우에 한하여 할인 적용\\n### 교육, 육아 10% 할인\\n- 어린이집/유치원 중 부모부담금, 학원, 인터넷서점(YES24, 알라딘, 교보문고)\\n#### 제한 사항\\n- 월 2회 할인 적용\\n- 건당 최대 5천원 할인\\n- 학원은 방문 결제 시(오프라인 가맹점 결제)에 적용\\n- 인터넷 서점은 온라인 매장만 적용\\n###  배달앱 10% 할인\\n- 배달의민족, 요기요 할인\\n#### 제한 사항\\n- 월 2회 할인 적용\\n- 건당 최대 5천원 할인\\n- 서비스 대상 공식 배달앱에서 '앱 내 카드 결제’에 한하여 적용\\n### 디지털 구독 50% 할인\\n- 넷플릭스, 유튜브프리미엄 할인\\n#### 제한 사항\\n- 월 1회 할인 적용\\n- 건당 최대 5천원 할인\",\n",
       "  '- 서비스 대상 가맹점 공식 사이트에 직접 접속하여 신청한 정기결제(자동이체) 이용 건에 한하여 서비스 적용\\n### 온라인 멤버쉽 3천원 할인\\n- 네이버(플러스멤버쉽), 쿠팡(로켓와우), 롯데ON(롯데오너스) 할인\\n#### 제한 사항\\n- 월 1회 할인 적용\\n- 건당 최대 3천원 할인\\n### 통합 할인 한도',\n",
       "  '| 전월 이용금액          | 할인 한도 |\\n| ---------------- | ----- |\\n| 30만원 이상 60만원 미만  | 1만원   |\\n| 60만원 이상 100만원 미만 | 2만원   |\\n| 100만원 이상         | 4만원'],\n",
       " 'uris': None,\n",
       " 'data': None,\n",
       " 'metadatas': [{'source': '/workspace/cardDB/국민행복.md'},\n",
       "  {'source': '/workspace/cardDB/국민행복.md'},\n",
       "  {'source': '/workspace/cardDB/국민행복.md'},\n",
       "  {'source': '/workspace/cardDB/국민행복.md'},\n",
       "  {'source': '/workspace/cardDB/국민행복.md'},\n",
       "  {'source': '/workspace/cardDB/국민행복.md'}],\n",
       " 'included': [<IncludeEnum.documents: 'documents'>,\n",
       "  <IncludeEnum.metadatas: 'metadatas'>]}"
      ]
     },
     "execution_count": 195,
     "metadata": {},
     "output_type": "execute_result"
    }
   ],
   "source": [
    "# 저장된 데이터 확인\n",
    "persist_db.get()"
   ]
  }
 ],
 "metadata": {
  "kernelspec": {
   "display_name": "Python 3",
   "language": "python",
   "name": "python3"
  },
  "language_info": {
   "codemirror_mode": {
    "name": "ipython",
    "version": 3
   },
   "file_extension": ".py",
   "mimetype": "text/x-python",
   "name": "python",
   "nbconvert_exporter": "python",
   "pygments_lexer": "ipython3",
   "version": "3.12.5"
  }
 },
 "nbformat": 4,
 "nbformat_minor": 2
}
